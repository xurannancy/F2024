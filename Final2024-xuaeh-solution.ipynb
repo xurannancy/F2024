{
 "cells": [
  {
   "cell_type": "markdown",
   "metadata": {},
   "source": [
    "# <span style=\"color:blue\"> Welcome! Data Analytics Final (50 pts + 5 bonus pts)</span>\n",
    "\n",
    "(That is, if you received 40/50 from the main exam and 5/5 from the bonus points, your total score would be 45/50.) \n",
    "\n",
    "<b>Background:</b> The Federal Open Market Committee (FOMC), a committee within the Federal Reserve System, meet about 8 times a year to make monetary policy decisions. Their meeting minutes are made public shortly after the meeting. There are 240 meetings from February 4, 1994 to December 13, 2023. \n",
    "\n",
    "<b>Question 1: Calculate negative sentiment score of one meeting (15 pts)</b>\n",
    "  -  <font color='red'>Class material: Last example of 1.6</font>\n",
    " \n",
    "<b>Question 2: Calculate negative sentiment scores of all March meetings from 1994 to 2023 (10 pts)</b>\n",
    " - 2.1. Calculate negative sentiment scores for each of these 30 txt minutes files. (+5)\n",
    " - 2.2 Plot the time series (+5)\n",
    " - <font color='red'>Class material: 1.6, plots</font>\n",
    "\n",
    "<b>Question 3: Import external csv, collapse the negative sentiment variable to yearly frequency, analyze stock return sensitivity to negative sentiment at the yearly frequency (25 pts)</b>\n",
    " - 3.1 Import external csv files (+2)\n",
    " - 3.2 Calculate and print yearly negative sentiment (+10)\n",
    " - 3.3 Analyze stock return sensitivity to negative sentiment (+13)\n",
    " - <font color='red'>Class material: 2.3 (np.mean, conditioning array), 2.5 (conditioning array, for loops, regression, identify year from date)</font>\n",
    "\n",
    "<b>Bonus question.</b>\n",
    " * <font color='red'>Class material: For loops. </font>\n",
    "\n",
    "<b>Best of luck!</b>"
   ]
  },
  {
   "cell_type": "markdown",
   "metadata": {},
   "source": [
    "<div class=\"alert-danger\">\n",
    "    <b>Honor Pledge:</b> Please print the following.\n",
    "</div>"
   ]
  },
  {
   "cell_type": "code",
   "execution_count": 28,
   "metadata": {
    "scrolled": true
   },
   "outputs": [
    {
     "name": "stdout",
     "output_type": "stream",
     "text": [
      "I affirm that I will not give or receive any unauthorized direct help on this final exam, and that all work will be my own: \n"
     ]
    },
    {
     "data": {
      "text/plain": [
       "'Sat Apr 27 22:56:29 2024'"
      ]
     },
     "execution_count": 28,
     "metadata": {},
     "output_type": "execute_result"
    }
   ],
   "source": [
    "print(\"I affirm that I will not give or receive any unauthorized direct help on this final exam, and that all work will be my own: \")\n",
    "import time\n",
    "time.ctime() "
   ]
  },
  {
   "cell_type": "markdown",
   "metadata": {},
   "source": [
    "-----"
   ]
  },
  {
   "cell_type": "code",
   "execution_count": 29,
   "metadata": {
    "scrolled": true
   },
   "outputs": [
    {
     "name": "stdout",
     "output_type": "stream",
     "text": [
      "Final submission for Nancy Xu (xuaeh)\n"
     ]
    }
   ],
   "source": [
    "name = \"Nancy Xu\"              # Enter your name\n",
    "user = \"xuaeh\"              # Enter your BC username\n",
    "print(\"Final submission for {} ({})\".format(name,user))"
   ]
  },
  {
   "cell_type": "markdown",
   "metadata": {},
   "source": [
    "Please make sure that you have created your own file <b>Final2024-user.ipynb</b> using \"Save Notebook As\" under the \"File\" dropdown."
   ]
  },
  {
   "cell_type": "code",
   "execution_count": 30,
   "metadata": {},
   "outputs": [],
   "source": [
    "# You might find them helpful\n",
    "import math\n",
    "import statistics\n",
    "import pandas\n",
    "import numpy as np\n",
    "import matplotlib.pyplot as plt\n",
    "import scipy.stats as stats            # Basic package for basic univariate regressions\n",
    "import statsmodels.api as statsmod           # More sophisticated package for univariate and multivariate regressions"
   ]
  },
  {
   "cell_type": "code",
   "execution_count": 31,
   "metadata": {},
   "outputs": [],
   "source": [
    "def reg_m(y, x):\n",
    "    X = np.hstack((np.ones((len(x),1)), x))     \n",
    "    results = statsmod.OLS(y, X).fit()                \n",
    "    return results"
   ]
  },
  {
   "cell_type": "markdown",
   "metadata": {},
   "source": [
    "## <span style=\"color:blue\"> 1. Calculate negative sentiment score of one meeting (15 pts)</span> \n",
    "\n",
    "<b>In this question:</b> You are asked to measure central bankers' negative sentiment in the <b>20200315.txt</b> meeting file [+12 pts], and then print the result out clearly [+3 pts]. \n",
    "\n",
    "<b>A few notes:</b> \n",
    " - Definition of negative sentiment score from 1.6: $\\mbox{Negative}_{20200315} = \\frac{\\mbox{Total number of Negative Words}_{20200315}}{\\mbox{Total number of words}_{20200315}}\\times 100$\n",
    " - Negative sentiment keyword list: \"KEYWORD_NEGATIVE.txt\"\n",
    "\n",
    "<b>Professor trying to be helpful:</b> To save you time, please don't worry about stop words when calculating the total number of words and please simply apply whatever we did in class; that should be sufficient. To help get you started smoothly, I provide the NEXT THREE BLOCKS. Hope it is helpful.   "
   ]
  },
  {
   "cell_type": "code",
   "execution_count": 32,
   "metadata": {},
   "outputs": [],
   "source": [
    "def Input(filename):\n",
    "    f = open(filename, 'r', encoding=\"mbcs\")  #some machines might use encoding=\"utf8\"\n",
    "    lines = f.readlines()\n",
    "    lines = [l.strip() for l in lines]  # output will be a list of strings where each string corresponds to each line\n",
    "    f.close()\n",
    "    return lines"
   ]
  },
  {
   "cell_type": "code",
   "execution_count": 33,
   "metadata": {},
   "outputs": [],
   "source": [
    "# Import the negative, positive, and stop words\n",
    "list_neg = Input('KEYWORD_NEGATIVE.txt')"
   ]
  },
  {
   "cell_type": "code",
   "execution_count": 34,
   "metadata": {},
   "outputs": [],
   "source": [
    "# Import the negative, positive, and stop words\n",
    "filename = '20200315.txt'\n",
    "FOMC = Input(filename)    # read each line as a string"
   ]
  },
  {
   "cell_type": "code",
   "execution_count": 35,
   "metadata": {
    "scrolled": true
   },
   "outputs": [
    {
     "name": "stdout",
     "output_type": "stream",
     "text": [
      "Minut\n",
      "<class 'str'>\n",
      "['Minutes', 'of', 'the', 'Federal', 'Open']\n",
      "<class 'list'>\n",
      "['MINUTES', 'OF', 'THE', 'FEDERAL', 'OPEN']\n",
      "<class 'list'>\n"
     ]
    }
   ],
   "source": [
    "# Your codes here [+12 pts]\n",
    "\n",
    "# convert the list of sentences into a long string using join\n",
    "FOMC_s = ' '.join(FOMC)\n",
    "print(FOMC_s[0:5])\n",
    "print(type(FOMC_s))\n",
    "\n",
    "# split the string into a list of words using split\n",
    "FOMC_w_raw = FOMC_s.split(' ')\n",
    "print(FOMC_w_raw[0:5])\n",
    "print(type(FOMC_w_raw))\n",
    "\n",
    "# basic clearning (same as in 1.6); convert the words to uppercase, remove any periods or commas, remove any words that are equal to '--', ' ', or ''\n",
    "FOMC_w = [w.upper().replace('.','').replace(',','').replace('(','').replace(')','').replace('*','').replace('-','').replace(':','') for w in FOMC_w_raw if w!= '--' and w!=' ' and w!='']\n",
    "print(FOMC_w[0:5])\n",
    "print(type(FOMC_w))"
   ]
  },
  {
   "cell_type": "code",
   "execution_count": 36,
   "metadata": {},
   "outputs": [
    {
     "name": "stdout",
     "output_type": "stream",
     "text": [
      "2.9775676491298664\n"
     ]
    }
   ],
   "source": [
    "# count the number of words that appear in the dictionary of uncertainty words\n",
    "# count the total number of words\n",
    "\n",
    "count_all = 0 \n",
    "count_neg = 0\n",
    "\n",
    "for w in FOMC_w:\n",
    "    if w in list_neg:\n",
    "        count_neg += 1\n",
    "    count_all += 1\n",
    "    \n",
    "negmention = count_neg/count_all*100\n",
    "print(negmention)"
   ]
  },
  {
   "cell_type": "code",
   "execution_count": 59,
   "metadata": {
    "scrolled": true
   },
   "outputs": [
    {
     "name": "stdout",
     "output_type": "stream",
     "text": [
      "During this FOMC meeting, 139 of 7469 words (or 2.98%) are related to negative sentiment.\n"
     ]
    }
   ],
   "source": [
    "# Please complete and print the following sentence using print+format (rounding the percentage as specified) \n",
    "# [+3 pts] \n",
    "# During this FOMC meeting, XX of XXXX words (or {X.XX}%) are related to negative sentiment.\n",
    "print(\"During this FOMC meeting, {} of {} words (or {:2.2f}%) are related to negative sentiment.\".format(count_neg,count_all, negmention))"
   ]
  },
  {
   "cell_type": "markdown",
   "metadata": {},
   "source": [
    "## <span style=\"color:blue\"> 2. Calculate negative sentiment scores of all March meetings from 1994 to 2023 (10 pts)</span> \n",
    "\n",
    "<b>In this question:</b> You are asked to create a list or numpy array (at your choice) of negative sentiment scores, respectivesly. This list or array should contain <font color=\"red\"><b>30 data points</b></font>, because there should only be one March meeting within each year. For your convenience, I provide a list named \"MarchMeetings\" that gives you the filenames of all March meetings from 1994 to 2023. \n",
    "\n",
    "Please produce and print out the list/array of 30 data points [+5 pts], and then show a time series plot of negative sentiment scores over time, with appropriate labels and x axis [+5 pts]. \n",
    "\n",
    "<b>Professor trying to be helpful:</b> You <b>don't</b> need to use for loops in order to receive full points in this question. "
   ]
  },
  {
   "cell_type": "code",
   "execution_count": 38,
   "metadata": {},
   "outputs": [
    {
     "name": "stdout",
     "output_type": "stream",
     "text": [
      "19940322.txt 20230322.txt 30\n"
     ]
    }
   ],
   "source": [
    "MarchMeetings = ['19940322.txt','19950328.txt','19960326.txt','19970325.txt','19980331.txt','19990330.txt','20000321.txt','20010320.txt','20020319.txt','20030318.txt', '20040316.txt', \t'20050322.txt', \t'20060328.txt', \t'20070321.txt', \t'20080318.txt', \t'20090318.txt', \t'20100316.txt',  '20110315.txt',  '20120313.txt',  '20130320.txt',  '20140319.txt',  '20150318.txt', \t'20160316.txt',  '20170315.txt',  '20180321.txt',  '20190320.txt',  '20200315.txt',  '20210317.txt', '20220316.txt',  '20230322.txt']\n",
    "print(MarchMeetings[0], MarchMeetings[-1], len(MarchMeetings))"
   ]
  },
  {
   "cell_type": "code",
   "execution_count": 39,
   "metadata": {
    "scrolled": true
   },
   "outputs": [],
   "source": [
    "# 2.1 Calculate and PRINT negative sentiment scores for these 30 files. [+5 pts]\n",
    "# At the end of the block, we are expecting to see 30 numbers.\n",
    "# Your codes here\n",
    "COUNT_ALL = []\n",
    "COUNT_NEG = []\n",
    "NEGMENTION = []\n",
    "for filename in MarchMeetings: \n",
    "    # import data\n",
    "    FOMC = Input(filename) \n",
    "    FOMC_s = ' '.join(FOMC)\n",
    "    FOMC_w_raw = FOMC_s.split(' ')\n",
    "    FOMC_w = [w.upper().replace('.','').replace(',','').replace('(','').replace(')','').replace('*','').replace('-','').replace(':','') for w in FOMC_w_raw if w!= '--' and w!=' ' and w!='']\n",
    "\n",
    "    # setup the count\n",
    "    count_all = 0 \n",
    "    count_neg = 0\n",
    "\n",
    "    for w in FOMC_w:\n",
    "        if w in list_neg:\n",
    "            count_neg += 1\n",
    "        count_all += 1\n",
    "    \n",
    "    # STORE RESUTLS\n",
    "    COUNT_ALL.append(count_all)\n",
    "    COUNT_NEG.append(count_neg)\n",
    "    NEGMENTION.append(count_neg/count_all*100) "
   ]
  },
  {
   "cell_type": "code",
   "execution_count": 42,
   "metadata": {},
   "outputs": [
    {
     "data": {
      "text/plain": [
       "[1.9361833952912018,\n",
       " 1.856325492689129,\n",
       " 2.0100502512562812,\n",
       " 2.145284621920136,\n",
       " 2.3921305611446457,\n",
       " 1.5154942320741913,\n",
       " 1.444043321299639,\n",
       " 2.7454242928452577,\n",
       " 2.0327868852459017,\n",
       " 2.9096898160856437,\n",
       " 1.7157490396927018,\n",
       " 1.1288805268109126,\n",
       " 1.2686567164179103,\n",
       " 2.062606163552536,\n",
       " 3.225270157938487,\n",
       " 2.8534183082271145,\n",
       " 2.283452580301416,\n",
       " 1.5953481437304309,\n",
       " 1.8721243852133904,\n",
       " 1.9432405983503425,\n",
       " 2.151452534338155,\n",
       " 1.46295422369042,\n",
       " 1.9760790431617263,\n",
       " 1.2375961645668414,\n",
       " 1.5757741847081392,\n",
       " 1.791782514674081,\n",
       " 2.9775676491298664,\n",
       " 1.5272474835126693,\n",
       " 1.6542404473438954,\n",
       " 1.8610255723657785]"
      ]
     },
     "execution_count": 42,
     "metadata": {},
     "output_type": "execute_result"
    }
   ],
   "source": [
    "NEGMENTION"
   ]
  },
  {
   "cell_type": "code",
   "execution_count": 41,
   "metadata": {},
   "outputs": [
    {
     "data": {
      "image/png": "[encoded data removed]",
      "text/plain": [
       "<Figure size 640x480 with 1 Axes>"
      ]
     },
     "metadata": {},
     "output_type": "display_data"
    }
   ],
   "source": [
    "# 2.2 Plot the time series of negative sentiment from 1994 to 2023 [+5 pts]\n",
    "plt.plot(NEGMENTION, 'go--')\n",
    "positions = np.array([0, 5, 10, 15, 20, 25, 30])\n",
    "labels = ['1994', '1999', '2004', '2009', '2014', '2019', '']\n",
    "plt.xticks(positions, labels)          # change the x-axis \n",
    "plt.title('Negative sentiment from 1994 to 2023')\n",
    "plt.show()"
   ]
  },
  {
   "attachments": {},
   "cell_type": "markdown",
   "metadata": {},
   "source": [
    "## <span style=\"color:blue\"> 3. Import external csv, collapse the negative sentiment variable to yearly frequency from 1994 to 2023, analyze stock return sensitivity to negative sentiment (25pts)</span> \n",
    "\n",
    "<b>Sentiment data: \"Q3.csv\"</b>\n",
    "  - Column 1 \"date\": Specific dates of 240 FOMC meetings from 1994 to 2023; that is, we no longer limit ourselves to March meetings.\n",
    "  - Column 2 \"NEGMENTION\": Negative sentiment score during this meeting\n",
    "\n",
    "\n",
    "\n",
    "<b>Asset price data: \"Stock.csv\"</b>\n",
    "  - Column 1 \"year\": Year\n",
    "  - Column 2 \"StockRet\": Annual stock return in percent\n"
   ]
  },
  {
   "cell_type": "code",
   "execution_count": 60,
   "metadata": {},
   "outputs": [
    {
     "data": {
      "text/plain": [
       "(240, 2)"
      ]
     },
     "execution_count": 60,
     "metadata": {},
     "output_type": "execute_result"
    }
   ],
   "source": [
    "# 3.1 Demonstrate you know how to import external csv files. [+2 pts]\n",
    "Q3DATA = np.genfromtxt(\"./Q3.csv\", delimiter=',') \n",
    "Q3DATA = Q3DATA[1:, :]\n",
    "Q3DATA.shape"
   ]
  },
  {
   "cell_type": "code",
   "execution_count": 44,
   "metadata": {},
   "outputs": [
    {
     "data": {
      "text/plain": [
       "(30, 2)"
      ]
     },
     "execution_count": 44,
     "metadata": {},
     "output_type": "execute_result"
    }
   ],
   "source": [
    "STOCK = np.genfromtxt(\"./Stock.csv\", delimiter=',')  # ANNUAL RETURN IN PERCENT\n",
    "STOCK = STOCK[1:, :]\n",
    "STOCK.shape"
   ]
  },
  {
   "cell_type": "code",
   "execution_count": 45,
   "metadata": {},
   "outputs": [],
   "source": [
    "# 3.2 Calculate and print yearly negative sentiment. [+10]\n",
    "# That is, take one year at a time, and calculate the AVERAGE of \n",
    "# all negative sentiment scores within this year.  \n",
    "\n",
    "# Hint 1: You can use conditioning array to create subsample of each year, calculate average, and store it somewhere using for loop. \n",
    "# Hint 2: Notice the date variable is yyyymmdd, not in year; how do you generate a year from a date variable? "
   ]
  },
  {
   "cell_type": "code",
   "execution_count": 46,
   "metadata": {},
   "outputs": [
    {
     "data": {
      "text/plain": [
       "(240, 1)"
      ]
     },
     "execution_count": 46,
     "metadata": {},
     "output_type": "execute_result"
    }
   ],
   "source": [
    "# Your codes here\n",
    "date= Q3DATA[:,0].reshape(240,1)\n",
    "neg= Q3DATA[:,1].reshape(240,1)\n",
    "neg.shape"
   ]
  },
  {
   "cell_type": "code",
   "execution_count": 47,
   "metadata": {},
   "outputs": [],
   "source": [
    "year = np.floor(date/10000)\n",
    "neg_year = np.ones(30)"
   ]
  },
  {
   "cell_type": "code",
   "execution_count": 48,
   "metadata": {},
   "outputs": [],
   "source": [
    "for i in list(range(1994,2024)):  # write conditioning array\n",
    "    neg_year[i-1994] = np.mean(neg[year == i])"
   ]
  },
  {
   "cell_type": "code",
   "execution_count": 49,
   "metadata": {
    "scrolled": true
   },
   "outputs": [
    {
     "data": {
      "text/plain": [
       "array([1.7117051 , 1.93623049, 1.73879927, 1.67407224, 2.23174571,\n",
       "       1.60202987, 1.86245716, 3.03489575, 2.32398067, 1.95774731,\n",
       "       1.52808261, 1.42898084, 1.57914263, 2.29999388, 2.81952621,\n",
       "       2.28506941, 2.00469555, 2.0674759 , 2.12485235, 1.83501332,\n",
       "       1.71341059, 1.84736382, 1.77999133, 1.530187  , 1.43154902,\n",
       "       1.81367946, 2.14372835, 1.68602571, 2.09331759, 1.99747753])"
      ]
     },
     "execution_count": 49,
     "metadata": {},
     "output_type": "execute_result"
    }
   ],
   "source": [
    "# Help with grading: please print out your yearly negative sentiment scores from 1994 to 2023. Expecting to see 30 numbers. \n",
    "neg_year"
   ]
  },
  {
   "cell_type": "code",
   "execution_count": null,
   "metadata": {},
   "outputs": [],
   "source": [
    "# 3.3 Analyze stock return sensitivity to negative sentiment. [+13]\n",
    "# Regression setup [+8]\n",
    "# Discussions [+5]"
   ]
  },
  {
   "cell_type": "code",
   "execution_count": 50,
   "metadata": {},
   "outputs": [],
   "source": [
    "stock = STOCK[:,1].reshape(30,1)"
   ]
  },
  {
   "cell_type": "code",
   "execution_count": 51,
   "metadata": {},
   "outputs": [
    {
     "name": "stdout",
     "output_type": "stream",
     "text": [
      "                            OLS Regression Results                            \n",
      "==============================================================================\n",
      "Dep. Variable:                      y   R-squared:                       0.181\n",
      "Model:                            OLS   Adj. R-squared:                  0.152\n",
      "Method:                 Least Squares   F-statistic:                     6.185\n",
      "Date:                Sat, 27 Apr 2024   Prob (F-statistic):             0.0191\n",
      "Time:                        23:03:42   Log-Likelihood:                -125.70\n",
      "No. Observations:                  30   AIC:                             255.4\n",
      "Df Residuals:                      28   BIC:                             258.2\n",
      "Df Model:                           1                                         \n",
      "Covariance Type:            nonrobust                                         \n",
      "==============================================================================\n",
      "                 coef    std err          t      P>|t|      [0.025      0.975]\n",
      "------------------------------------------------------------------------------\n",
      "const         49.4149     16.241      3.043      0.005      16.146      82.683\n",
      "x1           -20.4990      8.242     -2.487      0.019     -37.383      -3.615\n",
      "==============================================================================\n",
      "Omnibus:                        3.228   Durbin-Watson:                   2.416\n",
      "Prob(Omnibus):                  0.199   Jarque-Bera (JB):                1.849\n",
      "Skew:                          -0.348   Prob(JB):                        0.397\n",
      "Kurtosis:                       2.003   Cond. No.                         13.3\n",
      "==============================================================================\n",
      "\n",
      "Notes:\n",
      "[1] Standard Errors assume that the covariance matrix of the errors is correctly specified.\n"
     ]
    }
   ],
   "source": [
    "# STOCK ~ neg\n",
    "print(reg_m(stock,neg_year.reshape(30,1)).summary())"
   ]
  },
  {
   "cell_type": "markdown",
   "metadata": {},
   "source": [
    "  "
   ]
  },
  {
   "cell_type": "code",
   "execution_count": null,
   "metadata": {},
   "outputs": [],
   "source": [
    "# Your discussions in lockdown below (double click to start editing)"
   ]
  },
  {
   "cell_type": "markdown",
   "metadata": {},
   "source": [
    "    "
   ]
  },
  {
   "cell_type": "markdown",
   "metadata": {},
   "source": [
    "   "
   ]
  },
  {
   "cell_type": "markdown",
   "metadata": {},
   "source": [
    "   "
   ]
  },
  {
   "cell_type": "markdown",
   "metadata": {},
   "source": [
    " -------------------"
   ]
  },
  {
   "cell_type": "markdown",
   "metadata": {},
   "source": [
    "## Bonus question [+5] Obtain positive sentiment scores of the 30 March Meetings, and evaluate how sensitivity positive sentiment is to negative sentiment? "
   ]
  },
  {
   "cell_type": "code",
   "execution_count": 52,
   "metadata": {},
   "outputs": [],
   "source": [
    "# Your codes here.\n",
    "list_pos = Input('KEYWORD_POSITIVE.txt')\n",
    "COUNT_POS = []\n",
    "POSMENTION = []\n",
    "for filename in MarchMeetings: \n",
    "    # import data\n",
    "    FOMC = Input(filename) \n",
    "    FOMC_s = ' '.join(FOMC)\n",
    "    FOMC_w_raw = FOMC_s.split(' ')\n",
    "    FOMC_w = [w.upper().replace('.','').replace(',','').replace('(','').replace(')','').replace('*','').replace('-','').replace(':','') for w in FOMC_w_raw if w!= '--' and w!=' ' and w!='']\n",
    "\n",
    "    # setup the count\n",
    "    count_pos = 0\n",
    "\n",
    "    for w in FOMC_w:\n",
    "        if w in list_pos:\n",
    "            count_pos += 1\n",
    "    \n",
    "    # STORE RESUTLS\n",
    "    COUNT_POS.append(count_pos)\n",
    "    POSMENTION.append(count_pos/count_all*100) "
   ]
  },
  {
   "cell_type": "code",
   "execution_count": 56,
   "metadata": {},
   "outputs": [
    {
     "name": "stdout",
     "output_type": "stream",
     "text": [
      "                            OLS Regression Results                            \n",
      "==============================================================================\n",
      "Dep. Variable:                      y   R-squared:                       0.097\n",
      "Model:                            OLS   Adj. R-squared:                  0.064\n",
      "Method:                 Least Squares   F-statistic:                     2.994\n",
      "Date:                Sat, 27 Apr 2024   Prob (F-statistic):             0.0946\n",
      "Time:                        23:07:10   Log-Likelihood:               -0.59479\n",
      "No. Observations:                  30   AIC:                             5.190\n",
      "Df Residuals:                      28   BIC:                             7.992\n",
      "Df Model:                           1                                         \n",
      "Covariance Type:            nonrobust                                         \n",
      "==============================================================================\n",
      "                 coef    std err          t      P>|t|      [0.025      0.975]\n",
      "------------------------------------------------------------------------------\n",
      "const          1.2141      0.180      6.751      0.000       0.846       1.583\n",
      "x1            -0.1524      0.088     -1.730      0.095      -0.333       0.028\n",
      "==============================================================================\n",
      "Omnibus:                        6.310   Durbin-Watson:                   0.719\n",
      "Prob(Omnibus):                  0.043   Jarque-Bera (JB):                4.578\n",
      "Skew:                           0.869   Prob(JB):                        0.101\n",
      "Kurtosis:                       3.803   Cond. No.                         9.66\n",
      "==============================================================================\n",
      "\n",
      "Notes:\n",
      "[1] Standard Errors assume that the covariance matrix of the errors is correctly specified.\n"
     ]
    }
   ],
   "source": [
    "print(reg_m(np.array(POSMENTION).reshape(30,1),np.array(NEGMENTION).reshape(30,1)).summary())"
   ]
  },
  {
   "cell_type": "markdown",
   "metadata": {},
   "source": [
    " "
   ]
  },
  {
   "cell_type": "code",
   "execution_count": 57,
   "metadata": {},
   "outputs": [],
   "source": [
    "# Please write a couple of sentences to discuss your findings."
   ]
  },
  {
   "cell_type": "markdown",
   "metadata": {},
   "source": [
    "  "
   ]
  },
  {
   "cell_type": "markdown",
   "metadata": {},
   "source": [
    "  "
   ]
  },
  {
   "cell_type": "markdown",
   "metadata": {},
   "source": [
    " -----------------"
   ]
  },
  {
   "cell_type": "markdown",
   "metadata": {},
   "source": [
    "### Great job! You have reached the end. Please <span style=\"color:red\">save</span> your compiled notebook, <span style=\"color:red\">click \"File --> Log Out\"</span> in order to submit your work. \n",
    "\n",
    "Keep in touch! \n",
    "\n",
    "Warmly, \n",
    "Professor Xu"
   ]
  },
  {
   "cell_type": "code",
   "execution_count": 58,
   "metadata": {
    "scrolled": true
   },
   "outputs": [
    {
     "data": {
      "text/plain": [
       "'Sat Apr 27 23:10:07 2024'"
      ]
     },
     "execution_count": 58,
     "metadata": {},
     "output_type": "execute_result"
    }
   ],
   "source": [
    "import time\n",
    "time.ctime()"
   ]
  },
  {
   "cell_type": "code",
   "execution_count": null,
   "metadata": {},
   "outputs": [],
   "source": []
  }
 ],
 "metadata": {
  "kernelspec": {
   "display_name": "Python 3 (ipykernel)",
   "language": "python",
   "name": "python3"
  },
  "language_info": {
   "codemirror_mode": {
    "name": "ipython",
    "version": 3
   },
   "file_extension": ".py",
   "mimetype": "text/x-python",
   "name": "python",
   "nbconvert_exporter": "python",
   "pygments_lexer": "ipython3",
   "version": "3.11.7"
  }
 },
 "nbformat": 4,
 "nbformat_minor": 4
}
